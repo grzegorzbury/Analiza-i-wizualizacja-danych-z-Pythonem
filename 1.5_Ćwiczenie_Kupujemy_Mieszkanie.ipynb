{
 "cells": [
  {
   "cell_type": "markdown",
   "metadata": {},
   "source": [
    "Zamierzasz kupić mieszkanie. Upatrzone M kosztuje w tym momencie 120 tys. zł, jednak przewidujesz, że przez następne 5 lat ceny mieszkań będą rosły w tempie 5% rocznie. W tym momencie nie dysponujesz wystarczającymi środkami, dlatego znajdujesz ofertę banku, który proponuje lokatę, do której dopłacasz pewna stałą kwotę na koniec każdego miesiąca. Bank oferuje nominalną stopę procentową w wysokości 12% w skali roku, przy kapitalizacji miesięcznej."
   ]
  },
  {
   "cell_type": "code",
   "execution_count": 28,
   "metadata": {},
   "outputs": [],
   "source": [
    "import numpy as np\n",
    "import numpy_financial as npf\n",
    "import matplotlib.pyplot as plt"
   ]
  },
  {
   "cell_type": "code",
   "execution_count": 61,
   "metadata": {},
   "outputs": [],
   "source": [
    "freq = 12\n",
    "rate_flat = 0.05\n",
    "years = 5\n",
    "pv = 120000\n",
    "rate_deposit = 0.12"
   ]
  },
  {
   "cell_type": "markdown",
   "metadata": {},
   "source": [
    "1. Ile będzie wynosiła orientacyjna cena mieszkania za 5 lat?"
   ]
  },
  {
   "cell_type": "code",
   "execution_count": 85,
   "metadata": {},
   "outputs": [
    {
     "name": "stdout",
     "output_type": "stream",
     "text": [
      "[126000.   132300.   138915.   145860.75 153153.79]\n",
      "Cena mieszkania za 5 lat: 153153.79\n"
     ]
    }
   ],
   "source": [
    "periods = np.arange(1,years+1,dtype=int)\n",
    "fv = -np.round(npf.fv(rate_flat,periods,0,pv),2)\n",
    "print(\"Cena mieszkania za 5 lat: \"+str(\"{:.2f}\".format(fv[-1])))"
   ]
  },
  {
   "cell_type": "markdown",
   "metadata": {},
   "source": [
    "2. Ile musisz wpłacać do banku każdego miesiąca, aby przy przedstawionej ofercie uzbierać na mieszkanie w ciągu 5 lat?"
   ]
  },
  {
   "cell_type": "code",
   "execution_count": 63,
   "metadata": {},
   "outputs": [
    {
     "name": "stdout",
     "output_type": "stream",
     "text": [
      "60\n"
     ]
    }
   ],
   "source": [
    "rate_deposit/=freq\n",
    "nper=years*freq\n",
    "print(nper)"
   ]
  },
  {
   "cell_type": "code",
   "execution_count": 64,
   "metadata": {},
   "outputs": [
    {
     "name": "stdout",
     "output_type": "stream",
     "text": [
      "Miesięczna kwota do wpłaty: 1875.28\n"
     ]
    }
   ],
   "source": [
    "deposit_value=-npf.pmt(rate_deposit,nper,0,fv)\n",
    "print(\"Miesięczna kwota do wpłaty: \"+str(\"{:.2f}\".format(deposit_value)))"
   ]
  },
  {
   "cell_type": "markdown",
   "metadata": {},
   "source": [
    "3. Stwórz wykres przedstawiający, jak w interwałach miesięcznych zmieniać się będzie cena mieszkania (liniowy wzrost w całym okresie) oraz wartość twojej lokaty."
   ]
  },
  {
   "cell_type": "code",
   "execution_count": 103,
   "metadata": {},
   "outputs": [
    {
     "data": {
      "text/plain": [
       "array([  1875.2835694 ,   3769.31997449,   5682.29674364,   7614.40328047,\n",
       "         9565.83088268,  11536.7727609 ,  13527.42405791,  15537.98186789,\n",
       "        17568.64525597,  19619.61527793,  21691.09500011,  23783.28951951,\n",
       "        25896.4059841 ,  28030.65361334,  30186.24371887,  32363.38972546,\n",
       "        34562.30719212,  36783.21383344,  39026.32954117,  41291.87640598,\n",
       "        43580.07873944,  45891.16309624,  48225.3582966 ,  50582.89544896,\n",
       "        52964.00797285,  55368.93162198,  57797.9045076 ,  60251.16712207,\n",
       "        62728.96236269,  65231.53555572,  67759.13448068,  70312.00939488,\n",
       "        72890.41305823,  75494.60075821,  78124.8303352 ,  80781.36220795,\n",
       "        83464.45939943,  86174.38756282,  88911.41500785,  91675.81272733,\n",
       "        94467.854424  ,  97287.81653764, 100135.97827241, 103012.62162454,\n",
       "       105918.03141018, 108852.49529368, 111816.30381602, 114809.75042358,\n",
       "       117833.13149721, 120886.74638159, 123970.8974148 , 127085.88995835,\n",
       "       130232.03242733, 133409.636321  , 136619.01625361, 139860.48998555,\n",
       "       143134.3784548 , 146441.00580875, 149780.69943624, 153153.79      ])"
      ]
     },
     "execution_count": 103,
     "metadata": {},
     "output_type": "execute_result"
    }
   ],
   "source": [
    "periods = np.arange(0,60)    \n",
    "interest =  npf.fv(rate_deposit, periods, -deposit_value, -deposit_value)\n",
    "interest"
   ]
  },
  {
   "cell_type": "code",
   "execution_count": 104,
   "metadata": {},
   "outputs": [
    {
     "data": {
      "text/plain": [
       "Text(0, 0.5, 'Wartość [zł]')"
      ]
     },
     "execution_count": 104,
     "metadata": {},
     "output_type": "execute_result"
    },
    {
     "data": {
      "image/png": "[encoded data removed]",
      "text/plain": [
       "<Figure size 432x288 with 1 Axes>"
      ]
     },
     "metadata": {
      "needs_background": "light"
     },
     "output_type": "display_data"
    }
   ],
   "source": [
    "plt.plot([0,59],[pv,fv[-1]],label='Wartość mieszkania')\n",
    "plt.plot(periods,interest,label='Wartość lokaty')\n",
    "plt.legend()\n",
    "plt.xlabel(\"Miesiąc\")\n",
    "plt.ylabel(\"Wartość [zł]\")"
   ]
  },
  {
   "cell_type": "code",
   "execution_count": null,
   "metadata": {},
   "outputs": [],
   "source": []
  }
 ],
 "metadata": {
  "kernelspec": {
   "display_name": "Python 3",
   "language": "python",
   "name": "python3"
  },
  "language_info": {
   "codemirror_mode": {
    "name": "ipython",
    "version": 3
   },
   "file_extension": ".py",
   "mimetype": "text/x-python",
   "name": "python",
   "nbconvert_exporter": "python",
   "pygments_lexer": "ipython3",
   "version": "3.8.5"
  }
 },
 "nbformat": 4,
 "nbformat_minor": 4
}
