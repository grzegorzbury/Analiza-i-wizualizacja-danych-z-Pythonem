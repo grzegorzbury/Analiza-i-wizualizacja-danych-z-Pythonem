{
 "cells": [
  {
   "cell_type": "markdown",
   "metadata": {},
   "source": [
    "# 1.2. Zadanie: Korelacja"
   ]
  },
  {
   "cell_type": "code",
   "execution_count": 28,
   "metadata": {},
   "outputs": [],
   "source": [
    "from numpy import array \n",
    "country = [\"x1\", \"x2\", \"x3\", \"x4\", \"x5\",\n",
    "           \"x6\", \"x7\", \"x8\", \"x9\", \"x10\",\n",
    "           \"x11\", \"x12\", \"x13\", \"x14\", \"x15\",\n",
    "           \"x16\", \"x17\", \"x18\", \"x19\", \"x20\"]\n",
    "x_fert_rate = array([1.300, 1.950, 2.466, 1.600, 2.952,\n",
    "               1.801, 1.340, 1.340, 1.630, 2.326,\n",
    "               2.436, 6.563, 1.283, 1.430, 1.988,\n",
    "               1.610, 1.921, 2.400, 1.495, 4.705])\n",
    "y_life_exp = array([76.84878, 81.40732, 77.57895, 74.16341, 68.84907,\n",
    "              73.88595, 75.26829, 76.26098, 80.57244, 65.46259,\n",
    "              67.54820, 55.02451, 76.27990, 82.29024, 69.80695,\n",
    "              81.40112, 82.19756, 74.22683, 80.12888, 45.55095])"
   ]
  },
  {
   "cell_type": "markdown",
   "metadata": {},
   "source": [
    "### Miary położenia:"
   ]
  },
  {
   "cell_type": "code",
   "execution_count": 29,
   "metadata": {},
   "outputs": [
    {
     "name": "stdout",
     "output_type": "stream",
     "text": [
      "Średnia długość życia: 73.237646\n",
      "Mediana długość życia: 75.764635\n",
      "Dominanta długość życia: 76.84878\n",
      "Alternatywnie....\n",
      "Brak dominanty\n"
     ]
    }
   ],
   "source": [
    "from statistics import median\n",
    "from statistics import mode\n",
    "from pandas import Series\n",
    "\n",
    "avg_y = sum(y_life_exp)/len(y_life_exp) \n",
    "med_y = median(y_life_exp)\n",
    "mod_y = mode(y_life_exp)\n",
    "print('Średnia długość życia:', avg_y)\n",
    "print('Mediana długość życia:', med_y)\n",
    "print('Dominanta długość życia:', mod_y)\n",
    "\n",
    "print(\"Alternatywnie....\")\n",
    "# W naszym przypadku nie ma dominanty, wiec może?\n",
    "uniq = Series(y_life_exp).unique()\n",
    "if len(y_life_exp) == len(uniq):\n",
    "    print(\"Brak dominanty\")\n",
    "else:\n",
    "    mod_y = mode(y_life_exp)\n",
    "    \n",
    "    "
   ]
  },
  {
   "cell_type": "markdown",
   "metadata": {},
   "source": [
    "### Miary rozproszenia:"
   ]
  },
  {
   "cell_type": "code",
   "execution_count": 30,
   "metadata": {},
   "outputs": [
    {
     "name": "stdout",
     "output_type": "stream",
     "text": [
      "Wariancja:  83.784406777634\n",
      "Wariancja (funkcja): 83.78440677763399\n",
      "Odchylenie standardowe : 9.153382258904847\n",
      "Odchylenie standardowe (funkcja): 9.153382258904847\n"
     ]
    }
   ],
   "source": [
    "from numpy import var\n",
    "var_y = sum((y_life_exp-y_life_exp.mean())**2)/len(y_life_exp)\n",
    "print('Wariancja: ',var_y)\n",
    "var_y_2 = var(y_life_exp)\n",
    "print('Wariancja (funkcja):', var_y_2)\n",
    "std_y = var_y**(1/2)\n",
    "print(\"Odchylenie standardowe :\", std_y)\n",
    "std_y_2 = y_life_exp.std()\n",
    "print(\"Odchylenie standardowe (funkcja):\", std_y_2)"
   ]
  },
  {
   "cell_type": "markdown",
   "metadata": {},
   "source": [
    "### Korelacja"
   ]
  },
  {
   "cell_type": "code",
   "execution_count": 31,
   "metadata": {},
   "outputs": [
    {
     "name": "stdout",
     "output_type": "stream",
     "text": [
      "Współczynnik korelacji:  -0.8204930122649575\n"
     ]
    }
   ],
   "source": [
    "div_x = x_fert_rate-x_fert_rate.mean()\n",
    "div_y = y_life_exp-y_life_exp.mean()\n",
    "r = (sum(div_x*div_y)/len(div_x))/(x_fert_rate.std()*y_life_exp.std())\n",
    "print(\"Współczynnik korelacji: \", r)"
   ]
  },
  {
   "cell_type": "code",
   "execution_count": 32,
   "metadata": {},
   "outputs": [
    {
     "name": "stdout",
     "output_type": "stream",
     "text": [
      "Kontrolna z Numpy: -0.8204930122649573\n"
     ]
    }
   ],
   "source": [
    "from numpy import corrcoef\n",
    "r = corrcoef(x_fert_rate,y_life_exp)\n",
    "print(\"Kontrolna z Numpy:\", r[0,1])"
   ]
  },
  {
   "cell_type": "markdown",
   "metadata": {},
   "source": [
    "Współczynnik korelacji na poziomie -0.82 wskazuje bardzo wysoką korelację między zmiennymi x(dzietnością) i y(średnią długością życia). Współczynnik może oddawać rzeczywistość, choć pomocna byłby precyzyjna informacja odnośnie krajów, dla którego otrzymano dane. W przypadku wysokiej dzietności oraz niskich warunków bytowych spodziewana jest wyższa śmiertelność młodych, co zaniża średnią długość życia danej próby. Podsumowując, na podstawie surowych danych otrzymujemy wysoką korelacją ujemną tj. im wyższa dzietność, tym krótsza długość życia."
   ]
  },
  {
   "cell_type": "markdown",
   "metadata": {},
   "source": [
    "### Szacowanie średniej długości życia populacji"
   ]
  },
  {
   "cell_type": "code",
   "execution_count": 35,
   "metadata": {},
   "outputs": [
    {
     "name": "stdout",
     "output_type": "stream",
     "text": [
      "Średnia długość życia populacji dla poziomu ufności 95% wynosi pomiędzy 69.25377784856727 a 77.22151415143273\n"
     ]
    }
   ],
   "source": [
    "std_pop = 9.09\n",
    "z = 1.96\n",
    "exp_life_neg = avg_y-z*std_pop/(len(y_life_exp)**(1/2))\n",
    "exp_life_pos = avg_y+z*std_pop/(len(y_life_exp)**(1/2))     \n",
    "print(\"Średnia długość życia populacji dla poziomu ufności 95% wynosi pomiędzy\",exp_life_neg,\"a\", exp_life_pos)"
   ]
  }
 ],
 "metadata": {
  "kernelspec": {
   "display_name": "Python 3",
   "language": "python",
   "name": "python3"
  },
  "language_info": {
   "codemirror_mode": {
    "name": "ipython",
    "version": 3
   },
   "file_extension": ".py",
   "mimetype": "text/x-python",
   "name": "python",
   "nbconvert_exporter": "python",
   "pygments_lexer": "ipython3",
   "version": "3.8.5"
  }
 },
 "nbformat": 4,
 "nbformat_minor": 4
}
